{
 "cells": [
  {
   "cell_type": "code",
   "execution_count": 14,
   "metadata": {},
   "outputs": [],
   "source": [
    "import numpy as np\n",
    "import matplotlib.pyplot as plt\n",
    "import itertools\n",
    "from scipy.spatial.distance import euclidean\n",
    "from scipy.interpolate import splprep, splev\n",
    "from shapely.geometry import Polygon\n",
    "from svgwrite import Drawing"
   ]
  },
  {
   "cell_type": "code",
   "execution_count": 2,
   "metadata": {},
   "outputs": [],
   "source": [
    "def read_csv(csv_path):\n",
    "    np_path_XYs = np.genfromtxt(csv_path, delimiter=',')\n",
    "    path_XYs = []\n",
    "    \n",
    "    for i in np.unique(np_path_XYs[:, 0]):\n",
    "        npXYs = np_path_XYs[np_path_XYs[:, 0] == i][:, 1:]\n",
    "        XYs = []\n",
    "        for j in np.unique(npXYs[:, 0]):\n",
    "            XY = npXYs[npXYs[:, 0] == j][:, 1:]\n",
    "            XYs.append(XY)\n",
    "        path_XYs.append(XYs)\n",
    "    \n",
    "    return path_XYs"
   ]
  },
  {
   "cell_type": "code",
   "execution_count": 3,
   "metadata": {},
   "outputs": [],
   "source": [
    "def normalize_points(points_list):\n",
    "    normalized_points_list = []\n",
    "\n",
    "    for points in points_list:\n",
    "        min_x, min_y = points.min(axis=0)\n",
    "        max_x, max_y = points.max(axis=0)\n",
    "        range_x = max_x - min_x\n",
    "        range_y = max_y - min_y\n",
    "        \n",
    "        range_x = range_x if range_x != 0 else 1\n",
    "        range_y = range_y if range_y != 0 else 1\n",
    "        \n",
    "        normalized_points = (points - [min_x, min_y]) / [range_x, range_y]\n",
    "        normalized_points_list.append(normalized_points)\n",
    "    \n",
    "    return normalized_points_list"
   ]
  },
  {
   "cell_type": "code",
   "execution_count": 4,
   "metadata": {},
   "outputs": [],
   "source": [
    "def straight_line(points):\n",
    "\n",
    "    if len(points) < 2:\n",
    "        return points\n",
    "\n",
    "    p1, p2 = points[0], points[-1]\n",
    "    for i in range(1, len(points)):\n",
    "        slope = (p2[1] - p1[1]) / (p2[0] - p1[0]) if p2[0] != p1[0] else float('inf')\n",
    "        current_slope = (points[i][1] - p1[1]) / (points[i][0] - p1[0]) if points[i][0] != p1[0] else float('inf')\n",
    "        if not np.isclose(slope, current_slope, atol=1e-6):\n",
    "            return points  \n",
    "\n",
    "    modified_points = []\n",
    "    for point in points:\n",
    "        t = np.dot(point - p1, p2 - p1) / np.dot(p2 - p1, p2 - p1)\n",
    "        modified_points.append(p1 + t * (p2 - p1))\n",
    "    return np.array(modified_points)"
   ]
  },
  {
   "cell_type": "code",
   "execution_count": 5,
   "metadata": {},
   "outputs": [],
   "source": [
    "def circle_ellipse(points):\n",
    "    if len(points) < 5:\n",
    "        return points\n",
    "\n",
    "    centroid = np.mean(points, axis=0)\n",
    "    distances = np.array([euclidean(point, centroid) for point in points])\n",
    "    mean_distance = np.mean(distances)\n",
    "\n",
    "    if np.allclose(distances, mean_distance, rtol=1e-2): \n",
    "        return np.array([centroid + mean_distance * (point - centroid) / np.linalg.norm(point - centroid) for point in points])\n",
    "    else:\n",
    "        a = np.max(distances)\n",
    "        b = np.min(distances)\n",
    "        return np.array([centroid + np.array([a * (point[0] - centroid[0]), b * (point[1] - centroid[1])]) / np.linalg.norm(point - centroid) for point in points])\n",
    "\n",
    "    return points"
   ]
  },
  {
   "cell_type": "code",
   "execution_count": 6,
   "metadata": {},
   "outputs": [],
   "source": [
    "def rectangle(points):\n",
    "    if len(points) != 4:\n",
    "        return points\n",
    "\n",
    "    rect = sorted(points, key=lambda p: (p[0], p[1]))\n",
    "\n",
    "    mid1 = (rect[0] + rect[1]) / 2\n",
    "    mid2 = (rect[2] + rect[3]) / 2\n",
    "\n",
    "    aligned_points = np.array([\n",
    "        [mid1[0], rect[0][1]],\n",
    "        [mid2[0], rect[1][1]],\n",
    "        [mid2[0], rect[3][1]],\n",
    "        [mid1[0], rect[2][1]]\n",
    "    ])\n",
    "\n",
    "    return aligned_points"
   ]
  },
  {
   "cell_type": "code",
   "execution_count": 7,
   "metadata": {},
   "outputs": [],
   "source": [
    "def regular_polygon(points):\n",
    "    n = len(points)\n",
    "    if n < 3:\n",
    "        return points\n",
    "\n",
    "    centroid = np.mean(points, axis=0)\n",
    "\n",
    "    radius = np.mean([euclidean(point, centroid) for point in points])\n",
    "\n",
    "    angles = np.linspace(0, 2 * np.pi, n, endpoint=False)\n",
    "    modified_points = np.array([\n",
    "        [centroid[0] + radius * np.cos(angle), centroid[1] + radius * np.sin(angle)]\n",
    "        for angle in angles\n",
    "    ])\n",
    "\n",
    "    return modified_points"
   ]
  },
  {
   "cell_type": "code",
   "execution_count": 8,
   "metadata": {},
   "outputs": [],
   "source": [
    "def star(points):\n",
    "    if len(points) < 5:\n",
    "        return points\n",
    "\n",
    "    centroid = np.mean(points, axis=0)\n",
    "    angles = np.linspace(0, 2 * np.pi, len(points), endpoint=False)\n",
    "\n",
    "    distances = np.linalg.norm(points - centroid, axis=1)\n",
    "    max_distance = np.max(distances)\n",
    "    min_distance = np.min(distances)\n",
    "\n",
    "    if np.abs(max_distance - min_distance) > max_distance * 0.5:\n",
    "        star_points = []\n",
    "        for i in range(len(points)):\n",
    "            angle = angles[i]\n",
    "            radius = max_distance if i % 2 == 0 else min_distance\n",
    "            x = centroid[0] + radius * np.cos(angle)\n",
    "            y = centroid[1] + radius * np.sin(angle)\n",
    "            star_points.append([x, y])\n",
    "        return np.array(star_points)\n",
    "\n",
    "    return points"
   ]
  },
  {
   "cell_type": "code",
   "execution_count": 9,
   "metadata": {},
   "outputs": [],
   "source": [
    "'''def symmetry(points):\n",
    "    n = len(points)\n",
    "    if n < 2:\n",
    "        return points\n",
    "    centroid = np.mean(points, axis=0)\n",
    "\n",
    "    modified_points = np.array([centroid * 2 - point for point in points])\n",
    "\n",
    "    return modified_points'''\n",
    "def detect_symmetry(points):\n",
    "    if len(points) < 2:\n",
    "        return None\n",
    "    \n",
    "    centroid = np.mean(points, axis=0)\n",
    "    symmetries = []\n",
    "    \n",
    "    for i, j in itertools.combinations(range(len(points)), 2):\n",
    "        midpoint = (points[i] + points[j]) / 2\n",
    "        if np.allclose(midpoint, centroid, rtol=1e-2):\n",
    "            symmetries.append((points[i], points[j]))\n",
    "    \n",
    "    return symmetries"
   ]
  },
  {
   "cell_type": "code",
   "execution_count": 10,
   "metadata": {},
   "outputs": [],
   "source": [
    "def complete_curve(points, method='smooth'):\n",
    "    if len(points) < 3:\n",
    "        return points\n",
    "    \n",
    "    if method == 'smooth':\n",
    "        tck, _ = splprep(points.T, s=0)\n",
    "        new_points = splev(np.linspace(0, 1, len(points) * 10), tck)\n",
    "        return np.array(new_points).T\n",
    "\n",
    "    elif method == 'regular':\n",
    "        return np.array(points)\n",
    "    \n",
    "    return points"
   ]
  },
  {
   "cell_type": "code",
   "execution_count": 11,
   "metadata": {},
   "outputs": [],
   "source": [
    "def process_csv_and_output(csv_path, original_svg, modified_svg):\n",
    "    path_XYs = read_csv(csv_path)\n",
    "\n",
    "    draw_original = Drawing(original_svg)\n",
    "    for path in path_XYs:\n",
    "        for points in path:\n",
    "            draw_original.add(draw_original.polyline(points, stroke='black', fill='none'))\n",
    "    draw_original.save()\n",
    "\n",
    "    normalized_shapes = []\n",
    "    for path in path_XYs:\n",
    "        points = straight_line(points)\n",
    "        points = circle_ellipse(points)\n",
    "        points = rectangle(points)\n",
    "        points = regular_polygon(points)\n",
    "        points = star(points)\n",
    "        points = complete_curve(points)\n",
    "        \n",
    "        normalized_shapes.append(points)\n",
    "\n",
    "    draw_modified = Drawing(modified_svg)\n",
    "    for shape in normalized_shapes:\n",
    "        for points in shape:\n",
    "            draw_modified.add(draw_modified.polyline(points, stroke='black', fill='none'))\n",
    "    draw_modified.save()"
   ]
  },
  {
   "cell_type": "code",
   "execution_count": 13,
   "metadata": {},
   "outputs": [
    {
     "ename": "KeyboardInterrupt",
     "evalue": "",
     "output_type": "error",
     "traceback": [
      "\u001b[1;31m---------------------------------------------------------------------------\u001b[0m",
      "\u001b[1;31mKeyboardInterrupt\u001b[0m                         Traceback (most recent call last)",
      "Cell \u001b[1;32mIn[13], line 6\u001b[0m\n\u001b[0;32m      3\u001b[0m original_image \u001b[38;5;241m=\u001b[39m \u001b[38;5;124m'\u001b[39m\u001b[38;5;124moriginal_image.svg\u001b[39m\u001b[38;5;124m'\u001b[39m\n\u001b[0;32m      4\u001b[0m modified_image \u001b[38;5;241m=\u001b[39m \u001b[38;5;124m'\u001b[39m\u001b[38;5;124mmodified_image.svg\u001b[39m\u001b[38;5;124m'\u001b[39m\n\u001b[1;32m----> 6\u001b[0m process_csv_and_output(input_csv, original_image, modified_image)\n\u001b[0;32m      7\u001b[0m \u001b[38;5;28mprint\u001b[39m(\u001b[38;5;124mf\u001b[39m\u001b[38;5;124m\"\u001b[39m\u001b[38;5;124mOriginal and modified SVG images saved as \u001b[39m\u001b[38;5;132;01m{\u001b[39;00moriginal_image\u001b[38;5;132;01m}\u001b[39;00m\u001b[38;5;124m and \u001b[39m\u001b[38;5;132;01m{\u001b[39;00mmodified_image\u001b[38;5;132;01m}\u001b[39;00m\u001b[38;5;124m.\u001b[39m\u001b[38;5;124m\"\u001b[39m)\n",
      "Cell \u001b[1;32mIn[11], line 13\u001b[0m, in \u001b[0;36mprocess_csv_and_output\u001b[1;34m(csv_path, original_svg, modified_svg)\u001b[0m\n\u001b[0;32m     11\u001b[0m \u001b[38;5;28;01mfor\u001b[39;00m path \u001b[38;5;129;01min\u001b[39;00m path_XYs:\n\u001b[0;32m     12\u001b[0m     points \u001b[38;5;241m=\u001b[39m straight_line(points)\n\u001b[1;32m---> 13\u001b[0m     points \u001b[38;5;241m=\u001b[39m circle_ellipse(points)\n\u001b[0;32m     14\u001b[0m     points \u001b[38;5;241m=\u001b[39m rectangle(points)\n\u001b[0;32m     15\u001b[0m     points \u001b[38;5;241m=\u001b[39m regular_polygon(points)\n",
      "Cell \u001b[1;32mIn[5], line 6\u001b[0m, in \u001b[0;36mcircle_ellipse\u001b[1;34m(points)\u001b[0m\n\u001b[0;32m      3\u001b[0m     \u001b[38;5;28;01mreturn\u001b[39;00m points\n\u001b[0;32m      5\u001b[0m centroid \u001b[38;5;241m=\u001b[39m np\u001b[38;5;241m.\u001b[39mmean(points, axis\u001b[38;5;241m=\u001b[39m\u001b[38;5;241m0\u001b[39m)\n\u001b[1;32m----> 6\u001b[0m distances \u001b[38;5;241m=\u001b[39m np\u001b[38;5;241m.\u001b[39marray([euclidean(point, centroid) \u001b[38;5;28;01mfor\u001b[39;00m point \u001b[38;5;129;01min\u001b[39;00m points])\n\u001b[0;32m      7\u001b[0m mean_distance \u001b[38;5;241m=\u001b[39m np\u001b[38;5;241m.\u001b[39mmean(distances)\n\u001b[0;32m      9\u001b[0m \u001b[38;5;28;01mif\u001b[39;00m np\u001b[38;5;241m.\u001b[39mallclose(distances, mean_distance, rtol\u001b[38;5;241m=\u001b[39m\u001b[38;5;241m1e-2\u001b[39m): \n",
      "File \u001b[1;32mc:\\Users\\Sohni\\anaconda3\\Lib\\site-packages\\scipy\\spatial\\distance.py:520\u001b[0m, in \u001b[0;36meuclidean\u001b[1;34m(u, v, w)\u001b[0m\n\u001b[0;32m    484\u001b[0m \u001b[38;5;28;01mdef\u001b[39;00m \u001b[38;5;21meuclidean\u001b[39m(u, v, w\u001b[38;5;241m=\u001b[39m\u001b[38;5;28;01mNone\u001b[39;00m):\n\u001b[0;32m    485\u001b[0m \u001b[38;5;250m    \u001b[39m\u001b[38;5;124;03m\"\"\"\u001b[39;00m\n\u001b[0;32m    486\u001b[0m \u001b[38;5;124;03m    Computes the Euclidean distance between two 1-D arrays.\u001b[39;00m\n\u001b[0;32m    487\u001b[0m \n\u001b[1;32m   (...)\u001b[0m\n\u001b[0;32m    518\u001b[0m \n\u001b[0;32m    519\u001b[0m \u001b[38;5;124;03m    \"\"\"\u001b[39;00m\n\u001b[1;32m--> 520\u001b[0m     \u001b[38;5;28;01mreturn\u001b[39;00m minkowski(u, v, p\u001b[38;5;241m=\u001b[39m\u001b[38;5;241m2\u001b[39m, w\u001b[38;5;241m=\u001b[39mw)\n",
      "File \u001b[1;32mc:\\Users\\Sohni\\anaconda3\\Lib\\site-packages\\scipy\\spatial\\distance.py:463\u001b[0m, in \u001b[0;36mminkowski\u001b[1;34m(u, v, p, w)\u001b[0m\n\u001b[0;32m    413\u001b[0m \u001b[38;5;28;01mdef\u001b[39;00m \u001b[38;5;21mminkowski\u001b[39m(u, v, p\u001b[38;5;241m=\u001b[39m\u001b[38;5;241m2\u001b[39m, w\u001b[38;5;241m=\u001b[39m\u001b[38;5;28;01mNone\u001b[39;00m):\n\u001b[0;32m    414\u001b[0m \u001b[38;5;250m    \u001b[39m\u001b[38;5;124;03m\"\"\"\u001b[39;00m\n\u001b[0;32m    415\u001b[0m \u001b[38;5;124;03m    Compute the Minkowski distance between two 1-D arrays.\u001b[39;00m\n\u001b[0;32m    416\u001b[0m \n\u001b[1;32m   (...)\u001b[0m\n\u001b[0;32m    461\u001b[0m \n\u001b[0;32m    462\u001b[0m \u001b[38;5;124;03m    \"\"\"\u001b[39;00m\n\u001b[1;32m--> 463\u001b[0m     u \u001b[38;5;241m=\u001b[39m _validate_vector(u)\n\u001b[0;32m    464\u001b[0m     v \u001b[38;5;241m=\u001b[39m _validate_vector(v)\n\u001b[0;32m    465\u001b[0m     \u001b[38;5;28;01mif\u001b[39;00m p \u001b[38;5;241m<\u001b[39m\u001b[38;5;241m=\u001b[39m \u001b[38;5;241m0\u001b[39m:\n",
      "File \u001b[1;32mc:\\Users\\Sohni\\anaconda3\\Lib\\site-packages\\scipy\\spatial\\distance.py:299\u001b[0m, in \u001b[0;36m_validate_vector\u001b[1;34m(u, dtype)\u001b[0m\n\u001b[0;32m    297\u001b[0m \u001b[38;5;28;01mdef\u001b[39;00m \u001b[38;5;21m_validate_vector\u001b[39m(u, dtype\u001b[38;5;241m=\u001b[39m\u001b[38;5;28;01mNone\u001b[39;00m):\n\u001b[0;32m    298\u001b[0m     \u001b[38;5;66;03m# XXX Is order='c' really necessary?\u001b[39;00m\n\u001b[1;32m--> 299\u001b[0m     u \u001b[38;5;241m=\u001b[39m np\u001b[38;5;241m.\u001b[39masarray(u, dtype\u001b[38;5;241m=\u001b[39mdtype, order\u001b[38;5;241m=\u001b[39m\u001b[38;5;124m'\u001b[39m\u001b[38;5;124mc\u001b[39m\u001b[38;5;124m'\u001b[39m)\n\u001b[0;32m    300\u001b[0m     \u001b[38;5;28;01mif\u001b[39;00m u\u001b[38;5;241m.\u001b[39mndim \u001b[38;5;241m==\u001b[39m \u001b[38;5;241m1\u001b[39m:\n\u001b[0;32m    301\u001b[0m         \u001b[38;5;28;01mreturn\u001b[39;00m u\n",
      "\u001b[1;31mKeyboardInterrupt\u001b[0m: "
     ]
    }
   ],
   "source": [
    "if __name__ == \"__main__\":\n",
    "    input_csv = 'C:/Users/Sohni/OneDrive/Documents/New folder/problems/frag0.csv'\n",
    "    original_image = 'original_image.svg'\n",
    "    modified_image = 'modified_image.svg'\n",
    "    \n",
    "    process_csv_and_output(input_csv, original_image, modified_image)\n",
    "    print(f\"Original and modified SVG images saved as {original_image} and {modified_image}.\")"
   ]
  }
 ],
 "metadata": {
  "kernelspec": {
   "display_name": "base",
   "language": "python",
   "name": "python3"
  },
  "language_info": {
   "codemirror_mode": {
    "name": "ipython",
    "version": 3
   },
   "file_extension": ".py",
   "mimetype": "text/x-python",
   "name": "python",
   "nbconvert_exporter": "python",
   "pygments_lexer": "ipython3",
   "version": "3.12.4"
  }
 },
 "nbformat": 4,
 "nbformat_minor": 2
}
